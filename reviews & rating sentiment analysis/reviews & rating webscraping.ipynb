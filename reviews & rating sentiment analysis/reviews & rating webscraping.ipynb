{
 "cells": [
  {
   "cell_type": "code",
   "execution_count": 1,
   "id": "1580be56",
   "metadata": {},
   "outputs": [],
   "source": [
    "import numpy as np\n",
    "import pandas as pd\n",
    "import selenium\n",
    "from selenium import webdriver\n",
    "import time\n",
    "import warnings\n",
    "warnings.filterwarnings('ignore')"
   ]
  },
  {
   "cell_type": "code",
   "execution_count": 20,
   "id": "cfd46859",
   "metadata": {},
   "outputs": [],
   "source": [
    "driver = webdriver.Chrome('C:/Users/dell/Downloads/chromedriver_win32/chromedriver.exe')"
   ]
  },
  {
   "cell_type": "code",
   "execution_count": 4,
   "id": "33bc2878",
   "metadata": {},
   "outputs": [],
   "source": [
    "driver.get(\"https://www.flipkart.com/micromax-bling-q55-mobile-phone/product-reviews/ITMCZCR3QCRBHDAZ?pid=MOBCZQ5BUTBXHTCT\")"
   ]
  },
  {
   "cell_type": "code",
   "execution_count": 45,
   "id": "5c88ab0e",
   "metadata": {},
   "outputs": [],
   "source": [
    "start = 1\n",
    "end = 7\n",
    "rev = []\n",
    "rat = []\n",
    "rat1 = []\n",
    "rat2 = []\n",
    "for page in range(start, end):\n",
    "    url = 'https://www.flipkart.com/micromax-bling-q55-mobile-phone/product-reviews/ITMCZCR3QCRBHDAZ?pid=MOBCZQ5BUTBXHTCT&page=' + str(page)\n",
    "    driver.get(url)\n",
    "    re = driver.find_elements_by_xpath(\"//p[@class= '_2-N8zT']\")\n",
    "    ra = driver.find_elements_by_xpath(\"//div[@class= '_3LWZlK _1BLPMq']\")\n",
    "    ra1 = driver.find_elements_by_xpath(\"//div[@class= '_3LWZlK _1rdVr6 _1BLPMq']\")\n",
    "    ra2 = driver.find_elements_by_xpath(\"//div[@class= '_3LWZlK _32lA32 _1BLPMq']\")\n",
    "    \n",
    "    for i in range(len(re)):\n",
    "        rev.append(re[i].text)\n",
    "    \n",
    "    for i in range(len(ra)):\n",
    "        rat.append(ra[i].text)\n",
    "        \n",
    "    for i in range(len(ra1)):\n",
    "        rat1.append(ra1[i].text)\n",
    "        \n",
    "    for i in range(len(ra2)):\n",
    "        rat2.append(ra2[i].text)"
   ]
  },
  {
   "cell_type": "code",
   "execution_count": 40,
   "id": "0e38d121",
   "metadata": {},
   "outputs": [
    {
     "data": {
      "text/plain": [
       "56"
      ]
     },
     "execution_count": 40,
     "metadata": {},
     "output_type": "execute_result"
    }
   ],
   "source": [
    "len(rev)"
   ]
  },
  {
   "cell_type": "code",
   "execution_count": 41,
   "id": "033712a7",
   "metadata": {},
   "outputs": [
    {
     "data": {
      "text/plain": [
       "34"
      ]
     },
     "execution_count": 41,
     "metadata": {},
     "output_type": "execute_result"
    }
   ],
   "source": [
    "len(rat)"
   ]
  },
  {
   "cell_type": "code",
   "execution_count": 43,
   "id": "39a93b88",
   "metadata": {},
   "outputs": [
    {
     "data": {
      "text/plain": [
       "18"
      ]
     },
     "execution_count": 43,
     "metadata": {},
     "output_type": "execute_result"
    }
   ],
   "source": [
    "len(rat1)"
   ]
  },
  {
   "cell_type": "code",
   "execution_count": 47,
   "id": "babfbcc8",
   "metadata": {},
   "outputs": [
    {
     "data": {
      "text/plain": [
       "4"
      ]
     },
     "execution_count": 47,
     "metadata": {},
     "output_type": "execute_result"
    }
   ],
   "source": [
    "len(rat2)"
   ]
  },
  {
   "cell_type": "code",
   "execution_count": 48,
   "id": "b7e9b781",
   "metadata": {},
   "outputs": [],
   "source": [
    "rate = rat + rat1 + rat2"
   ]
  },
  {
   "cell_type": "code",
   "execution_count": 50,
   "id": "b8ee2eb0",
   "metadata": {},
   "outputs": [
    {
     "data": {
      "text/plain": [
       "56"
      ]
     },
     "execution_count": 50,
     "metadata": {},
     "output_type": "execute_result"
    }
   ],
   "source": [
    "len(rate)"
   ]
  },
  {
   "cell_type": "code",
   "execution_count": 51,
   "id": "aaaef693",
   "metadata": {},
   "outputs": [],
   "source": [
    "review1 = pd.DataFrame({'Review': rev, 'Rating': rate}) "
   ]
  },
  {
   "cell_type": "code",
   "execution_count": 53,
   "id": "6b78fd39",
   "metadata": {},
   "outputs": [],
   "source": [
    "review1 = review1.to_csv(\"review1.csv\")"
   ]
  },
  {
   "cell_type": "code",
   "execution_count": 54,
   "id": "bcfb218d",
   "metadata": {},
   "outputs": [],
   "source": [
    "driver.get(\"https://www.flipkart.com/realme-8s-5g-universe-purple-128-gb/product-reviews/itm79fdf59bdbe44?pid=MOBG5Y94WJ6GJ8MK&lid=LSTMOBG5Y94WJ6GJ8MKMEULAS&marketplace=FLIPKART\")"
   ]
  },
  {
   "cell_type": "code",
   "execution_count": 55,
   "id": "bfd67b09",
   "metadata": {},
   "outputs": [],
   "source": [
    "start = 1\n",
    "end = 472\n",
    "rev = []\n",
    "rat = []\n",
    "rat1 = []\n",
    "rat2 = []\n",
    "for page in range(start, end):\n",
    "    url = \"https://www.flipkart.com/realme-8s-5g-universe-purple-128-gb/product-reviews/itm79fdf59bdbe44?pid=MOBG5Y94WJ6GJ8MK&lid=LSTMOBG5Y94WJ6GJ8MKMEULAS&marketplace=FLIPKART&page=\" + str(page)\n",
    "    driver.get(url)\n",
    "    re = driver.find_elements_by_xpath(\"//p[@class= '_2-N8zT']\")\n",
    "    ra = driver.find_elements_by_xpath(\"//div[@class= '_3LWZlK _1BLPMq']\")\n",
    "    ra1 = driver.find_elements_by_xpath(\"//div[@class= '_3LWZlK _1rdVr6 _1BLPMq']\")\n",
    "    ra2 = driver.find_elements_by_xpath(\"//div[@class= '_3LWZlK _32lA32 _1BLPMq']\")\n",
    "    \n",
    "    for i in range(len(re)):\n",
    "        rev.append(re[i].text)\n",
    "    \n",
    "    for i in range(len(ra)):\n",
    "        rat.append(ra[i].text)\n",
    "    \n",
    "    for i in range(len(ra1)):\n",
    "        rat1.append(ra1[i].text)\n",
    "        \n",
    "    for i in range(len(ra2)):\n",
    "        rat2.append(ra2[i].text)"
   ]
  },
  {
   "cell_type": "code",
   "execution_count": 57,
   "id": "a6b73dca",
   "metadata": {},
   "outputs": [
    {
     "data": {
      "text/plain": [
       "4704"
      ]
     },
     "execution_count": 57,
     "metadata": {},
     "output_type": "execute_result"
    }
   ],
   "source": [
    "len(rev)"
   ]
  },
  {
   "cell_type": "code",
   "execution_count": 59,
   "id": "df2b7216",
   "metadata": {},
   "outputs": [
    {
     "data": {
      "text/plain": [
       "4373"
      ]
     },
     "execution_count": 59,
     "metadata": {},
     "output_type": "execute_result"
    }
   ],
   "source": [
    "len(rat)"
   ]
  },
  {
   "cell_type": "code",
   "execution_count": 61,
   "id": "77d6f219",
   "metadata": {},
   "outputs": [
    {
     "data": {
      "text/plain": [
       "232"
      ]
     },
     "execution_count": 61,
     "metadata": {},
     "output_type": "execute_result"
    }
   ],
   "source": [
    "len(rat1)"
   ]
  },
  {
   "cell_type": "code",
   "execution_count": 63,
   "id": "2de3def3",
   "metadata": {},
   "outputs": [
    {
     "data": {
      "text/plain": [
       "99"
      ]
     },
     "execution_count": 63,
     "metadata": {},
     "output_type": "execute_result"
    }
   ],
   "source": [
    "len(rat2)"
   ]
  },
  {
   "cell_type": "code",
   "execution_count": 64,
   "id": "fa7083e0",
   "metadata": {},
   "outputs": [],
   "source": [
    "rate = rat + rat1 + rat2"
   ]
  },
  {
   "cell_type": "code",
   "execution_count": 65,
   "id": "510b7550",
   "metadata": {},
   "outputs": [
    {
     "data": {
      "text/plain": [
       "4704"
      ]
     },
     "execution_count": 65,
     "metadata": {},
     "output_type": "execute_result"
    }
   ],
   "source": [
    "len(rate)"
   ]
  },
  {
   "cell_type": "code",
   "execution_count": 66,
   "id": "3f70d6e1",
   "metadata": {},
   "outputs": [],
   "source": [
    "review2 = pd.DataFrame({'Review': rev, 'Rating': rate})"
   ]
  },
  {
   "cell_type": "code",
   "execution_count": 68,
   "id": "17b9fa7a",
   "metadata": {},
   "outputs": [],
   "source": [
    "review2 = review2.to_csv('review2.csv')"
   ]
  },
  {
   "cell_type": "code",
   "execution_count": 6,
   "id": "e1ff017e",
   "metadata": {},
   "outputs": [],
   "source": [
    "driver.get(\"https://www.flipkart.com/samsung-galaxy-f12-sky-blue-64-gb/product-reviews/itm0319ce24f74aa?pid=MOBGFG79BVGDHGWV&lid=LSTMOBGFG79BVGDHGWVGF2CRI&marketplace=FLIPKART\")"
   ]
  },
  {
   "cell_type": "code",
   "execution_count": 7,
   "id": "223a4b08",
   "metadata": {},
   "outputs": [],
   "source": [
    "start = 1\n",
    "end = 1001\n",
    "rev = []\n",
    "rat = []\n",
    "rat1 = []\n",
    "rat2 = []\n",
    "for page in range(start, end):\n",
    "    url = \"https://www.flipkart.com/samsung-galaxy-f12-sky-blue-64-gb/product-reviews/itm0319ce24f74aa?pid=MOBGFG79BVGDHGWV&lid=LSTMOBGFG79BVGDHGWVGF2CRI&marketplace=FLIPKART&page=\" + str(page)\n",
    "    driver.get(url)\n",
    "    re = driver.find_elements_by_xpath(\"//p[@class= '_2-N8zT']\")\n",
    "    ra = driver.find_elements_by_xpath(\"//div[@class= '_3LWZlK _1BLPMq']\")\n",
    "    ra1 = driver.find_elements_by_xpath(\"//div[@class= '_3LWZlK _1rdVr6 _1BLPMq']\")\n",
    "    ra2 = driver.find_elements_by_xpath(\"//div[@class= '_3LWZlK _32lA32 _1BLPMq']\")\n",
    "    \n",
    "    for i in range(len(re)):\n",
    "        rev.append(re[i].text)\n",
    "    \n",
    "    for i in range(len(ra)):\n",
    "        rat.append(ra[i].text)\n",
    "    \n",
    "    for i in range(len(ra1)):\n",
    "        rat1.append(ra1[i].text)\n",
    "        \n",
    "    for i in range(len(ra2)):\n",
    "        rat2.append(ra2[i].text)"
   ]
  },
  {
   "cell_type": "code",
   "execution_count": 9,
   "id": "1978e835",
   "metadata": {},
   "outputs": [
    {
     "data": {
      "text/plain": [
       "9495"
      ]
     },
     "execution_count": 9,
     "metadata": {},
     "output_type": "execute_result"
    }
   ],
   "source": [
    "len(rev)"
   ]
  },
  {
   "cell_type": "code",
   "execution_count": 11,
   "id": "d6711179",
   "metadata": {},
   "outputs": [
    {
     "data": {
      "text/plain": [
       "8380"
      ]
     },
     "execution_count": 11,
     "metadata": {},
     "output_type": "execute_result"
    }
   ],
   "source": [
    "len(rat)"
   ]
  },
  {
   "cell_type": "code",
   "execution_count": 13,
   "id": "54a5484e",
   "metadata": {},
   "outputs": [
    {
     "data": {
      "text/plain": [
       "751"
      ]
     },
     "execution_count": 13,
     "metadata": {},
     "output_type": "execute_result"
    }
   ],
   "source": [
    "len(rat1)"
   ]
  },
  {
   "cell_type": "code",
   "execution_count": 15,
   "id": "c2e8a8c5",
   "metadata": {},
   "outputs": [
    {
     "data": {
      "text/plain": [
       "364"
      ]
     },
     "execution_count": 15,
     "metadata": {},
     "output_type": "execute_result"
    }
   ],
   "source": [
    "len(rat2)"
   ]
  },
  {
   "cell_type": "code",
   "execution_count": 16,
   "id": "e4b6feaf",
   "metadata": {},
   "outputs": [],
   "source": [
    "rate = rat + rat1 + rat2"
   ]
  },
  {
   "cell_type": "code",
   "execution_count": 17,
   "id": "4a2ece6c",
   "metadata": {},
   "outputs": [],
   "source": [
    "review3 = pd.DataFrame({'Review': rev, 'Rating': rate})"
   ]
  },
  {
   "cell_type": "code",
   "execution_count": 19,
   "id": "f0d013e5",
   "metadata": {},
   "outputs": [],
   "source": [
    "review3 = review3.to_csv('review3.csv')"
   ]
  },
  {
   "cell_type": "code",
   "execution_count": 21,
   "id": "5f8e4522",
   "metadata": {},
   "outputs": [],
   "source": [
    "driver.get('https://www.flipkart.com/realme-c20-cool-blue-32-gb/product-reviews/itmea1903897436b?pid=MOBGF4894MEWZJGV&lid=LSTMOBGF4894MEWZJGVW425N5&marketplace=FLIPKART')"
   ]
  },
  {
   "cell_type": "code",
   "execution_count": 22,
   "id": "c069985b",
   "metadata": {},
   "outputs": [],
   "source": [
    "start = 1\n",
    "end = 1001\n",
    "rev = []\n",
    "rat = []\n",
    "rat1 = []\n",
    "rat2 = []\n",
    "for page in range(start, end):\n",
    "    url = \"https://www.flipkart.com/realme-c20-cool-blue-32-gb/product-reviews/itmea1903897436b?pid=MOBGF4894MEWZJGV&lid=LSTMOBGF4894MEWZJGVW425N5&marketplace=FLIPKART&page=\" + str(page)\n",
    "    driver.get(url)\n",
    "    re = driver.find_elements_by_xpath(\"//p[@class= '_2-N8zT']\")\n",
    "    ra = driver.find_elements_by_xpath(\"//div[@class= '_3LWZlK _1BLPMq']\")\n",
    "    ra1 = driver.find_elements_by_xpath(\"//div[@class= '_3LWZlK _1rdVr6 _1BLPMq']\")\n",
    "    ra2 = driver.find_elements_by_xpath(\"//div[@class= '_3LWZlK _32lA32 _1BLPMq']\")\n",
    "    \n",
    "    for i in range(len(re)):\n",
    "        rev.append(re[i].text)\n",
    "    \n",
    "    for i in range(len(ra)):\n",
    "        rat.append(ra[i].text)\n",
    "    \n",
    "    for i in range(len(ra1)):\n",
    "        rat1.append(ra1[i].text)\n",
    "        \n",
    "    for i in range(len(ra2)):\n",
    "        rat2.append(ra2[i].text)"
   ]
  },
  {
   "cell_type": "code",
   "execution_count": 24,
   "id": "b8c10553",
   "metadata": {},
   "outputs": [
    {
     "data": {
      "text/plain": [
       "9863"
      ]
     },
     "execution_count": 24,
     "metadata": {},
     "output_type": "execute_result"
    }
   ],
   "source": [
    "len(rev)"
   ]
  },
  {
   "cell_type": "code",
   "execution_count": 26,
   "id": "59fba2e9",
   "metadata": {},
   "outputs": [
    {
     "data": {
      "text/plain": [
       "8526"
      ]
     },
     "execution_count": 26,
     "metadata": {},
     "output_type": "execute_result"
    }
   ],
   "source": [
    "len(rat)"
   ]
  },
  {
   "cell_type": "code",
   "execution_count": 28,
   "id": "d05a74f0",
   "metadata": {},
   "outputs": [
    {
     "data": {
      "text/plain": [
       "974"
      ]
     },
     "execution_count": 28,
     "metadata": {},
     "output_type": "execute_result"
    }
   ],
   "source": [
    "len(rat1)"
   ]
  },
  {
   "cell_type": "code",
   "execution_count": 30,
   "id": "dad07e0f",
   "metadata": {},
   "outputs": [
    {
     "data": {
      "text/plain": [
       "363"
      ]
     },
     "execution_count": 30,
     "metadata": {},
     "output_type": "execute_result"
    }
   ],
   "source": [
    "len(rat2)"
   ]
  },
  {
   "cell_type": "code",
   "execution_count": 31,
   "id": "11558b46",
   "metadata": {},
   "outputs": [],
   "source": [
    "rate = rat + rat1 + rat2"
   ]
  },
  {
   "cell_type": "code",
   "execution_count": 33,
   "id": "af6841a9",
   "metadata": {},
   "outputs": [
    {
     "data": {
      "text/plain": [
       "9863"
      ]
     },
     "execution_count": 33,
     "metadata": {},
     "output_type": "execute_result"
    }
   ],
   "source": [
    "len(rate)"
   ]
  },
  {
   "cell_type": "code",
   "execution_count": 34,
   "id": "977b5518",
   "metadata": {},
   "outputs": [],
   "source": [
    "review4 = pd.DataFrame({'Review': rev, 'Rating': rate})"
   ]
  },
  {
   "cell_type": "code",
   "execution_count": 36,
   "id": "0cace37c",
   "metadata": {},
   "outputs": [],
   "source": [
    "review4 = review4.to_csv('review4.csv')"
   ]
  },
  {
   "cell_type": "code",
   "execution_count": 37,
   "id": "ab96caca",
   "metadata": {},
   "outputs": [],
   "source": [
    "a = pd.read_csv('review1.csv')"
   ]
  },
  {
   "cell_type": "code",
   "execution_count": 38,
   "id": "0dd5d3a1",
   "metadata": {},
   "outputs": [],
   "source": [
    "b = pd.read_csv('review2.csv')"
   ]
  },
  {
   "cell_type": "code",
   "execution_count": 39,
   "id": "dcf4fd1a",
   "metadata": {},
   "outputs": [],
   "source": [
    "c = pd.read_csv('review3.csv')"
   ]
  },
  {
   "cell_type": "code",
   "execution_count": 40,
   "id": "7a30f812",
   "metadata": {},
   "outputs": [],
   "source": [
    "d = pd.read_csv('review4.csv')"
   ]
  },
  {
   "cell_type": "code",
   "execution_count": 46,
   "id": "4b77a7cf",
   "metadata": {},
   "outputs": [],
   "source": [
    "reviews = pd.concat([a, b, c, d], axis= 0)"
   ]
  },
  {
   "cell_type": "code",
   "execution_count": 49,
   "id": "67938c4a",
   "metadata": {},
   "outputs": [],
   "source": [
    "reviews = reviews.reset_index()"
   ]
  },
  {
   "cell_type": "code",
   "execution_count": 51,
   "id": "39d4c86d",
   "metadata": {},
   "outputs": [
    {
     "data": {
      "text/html": [
       "<div>\n",
       "<style scoped>\n",
       "    .dataframe tbody tr th:only-of-type {\n",
       "        vertical-align: middle;\n",
       "    }\n",
       "\n",
       "    .dataframe tbody tr th {\n",
       "        vertical-align: top;\n",
       "    }\n",
       "\n",
       "    .dataframe thead th {\n",
       "        text-align: right;\n",
       "    }\n",
       "</style>\n",
       "<table border=\"1\" class=\"dataframe\">\n",
       "  <thead>\n",
       "    <tr style=\"text-align: right;\">\n",
       "      <th></th>\n",
       "      <th>index</th>\n",
       "      <th>Unnamed: 0</th>\n",
       "      <th>Review</th>\n",
       "      <th>Rating</th>\n",
       "    </tr>\n",
       "  </thead>\n",
       "  <tbody>\n",
       "    <tr>\n",
       "      <th>0</th>\n",
       "      <td>0</td>\n",
       "      <td>0</td>\n",
       "      <td>best for girls or gifting</td>\n",
       "      <td>5</td>\n",
       "    </tr>\n",
       "    <tr>\n",
       "      <th>1</th>\n",
       "      <td>1</td>\n",
       "      <td>1</td>\n",
       "      <td>Good show piece but Bad Mobile! !</td>\n",
       "      <td>3</td>\n",
       "    </tr>\n",
       "    <tr>\n",
       "      <th>2</th>\n",
       "      <td>2</td>\n",
       "      <td>2</td>\n",
       "      <td>Used it for 1 and a half year, it worked quite...</td>\n",
       "      <td>5</td>\n",
       "    </tr>\n",
       "    <tr>\n",
       "      <th>3</th>\n",
       "      <td>3</td>\n",
       "      <td>3</td>\n",
       "      <td>Perfect gift for your wife</td>\n",
       "      <td>5</td>\n",
       "    </tr>\n",
       "    <tr>\n",
       "      <th>4</th>\n",
       "      <td>4</td>\n",
       "      <td>4</td>\n",
       "      <td>Unique Feel</td>\n",
       "      <td>4</td>\n",
       "    </tr>\n",
       "  </tbody>\n",
       "</table>\n",
       "</div>"
      ],
      "text/plain": [
       "   index  Unnamed: 0                                             Review  \\\n",
       "0      0           0                          best for girls or gifting   \n",
       "1      1           1                  Good show piece but Bad Mobile! !   \n",
       "2      2           2  Used it for 1 and a half year, it worked quite...   \n",
       "3      3           3                         Perfect gift for your wife   \n",
       "4      4           4                                        Unique Feel   \n",
       "\n",
       "   Rating  \n",
       "0       5  \n",
       "1       3  \n",
       "2       5  \n",
       "3       5  \n",
       "4       4  "
      ]
     },
     "execution_count": 51,
     "metadata": {},
     "output_type": "execute_result"
    }
   ],
   "source": [
    "reviews.head()"
   ]
  },
  {
   "cell_type": "code",
   "execution_count": 52,
   "id": "caed6e4a",
   "metadata": {},
   "outputs": [],
   "source": [
    "reviews.drop(['index', 'Unnamed: 0'], axis= 1, inplace= True) "
   ]
  },
  {
   "cell_type": "code",
   "execution_count": 55,
   "id": "227734fe",
   "metadata": {},
   "outputs": [
    {
     "data": {
      "text/html": [
       "<div>\n",
       "<style scoped>\n",
       "    .dataframe tbody tr th:only-of-type {\n",
       "        vertical-align: middle;\n",
       "    }\n",
       "\n",
       "    .dataframe tbody tr th {\n",
       "        vertical-align: top;\n",
       "    }\n",
       "\n",
       "    .dataframe thead th {\n",
       "        text-align: right;\n",
       "    }\n",
       "</style>\n",
       "<table border=\"1\" class=\"dataframe\">\n",
       "  <thead>\n",
       "    <tr style=\"text-align: right;\">\n",
       "      <th></th>\n",
       "      <th>Review</th>\n",
       "      <th>Rating</th>\n",
       "    </tr>\n",
       "  </thead>\n",
       "  <tbody>\n",
       "    <tr>\n",
       "      <th>0</th>\n",
       "      <td>best for girls or gifting</td>\n",
       "      <td>5</td>\n",
       "    </tr>\n",
       "    <tr>\n",
       "      <th>1</th>\n",
       "      <td>Good show piece but Bad Mobile! !</td>\n",
       "      <td>3</td>\n",
       "    </tr>\n",
       "    <tr>\n",
       "      <th>2</th>\n",
       "      <td>Used it for 1 and a half year, it worked quite...</td>\n",
       "      <td>5</td>\n",
       "    </tr>\n",
       "    <tr>\n",
       "      <th>3</th>\n",
       "      <td>Perfect gift for your wife</td>\n",
       "      <td>5</td>\n",
       "    </tr>\n",
       "    <tr>\n",
       "      <th>4</th>\n",
       "      <td>Unique Feel</td>\n",
       "      <td>4</td>\n",
       "    </tr>\n",
       "  </tbody>\n",
       "</table>\n",
       "</div>"
      ],
      "text/plain": [
       "                                              Review  Rating\n",
       "0                          best for girls or gifting       5\n",
       "1                  Good show piece but Bad Mobile! !       3\n",
       "2  Used it for 1 and a half year, it worked quite...       5\n",
       "3                         Perfect gift for your wife       5\n",
       "4                                        Unique Feel       4"
      ]
     },
     "execution_count": 55,
     "metadata": {},
     "output_type": "execute_result"
    }
   ],
   "source": [
    "reviews.head()"
   ]
  },
  {
   "cell_type": "code",
   "execution_count": 56,
   "id": "2e530389",
   "metadata": {},
   "outputs": [],
   "source": [
    "reviews = reviews.to_csv('reviews.csv')"
   ]
  },
  {
   "cell_type": "code",
   "execution_count": null,
   "id": "c4e049db",
   "metadata": {},
   "outputs": [],
   "source": []
  }
 ],
 "metadata": {
  "kernelspec": {
   "display_name": "Python 3 (ipykernel)",
   "language": "python",
   "name": "python3"
  },
  "language_info": {
   "codemirror_mode": {
    "name": "ipython",
    "version": 3
   },
   "file_extension": ".py",
   "mimetype": "text/x-python",
   "name": "python",
   "nbconvert_exporter": "python",
   "pygments_lexer": "ipython3",
   "version": "3.9.7"
  }
 },
 "nbformat": 4,
 "nbformat_minor": 5
}
